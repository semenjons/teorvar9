{
 "cells": [
  {
   "cell_type": "code",
   "execution_count": 4,
   "metadata": {},
   "outputs": [],
   "source": [
    "import numpy as np\n",
    "import matplotlib.pyplot as plt\n",
    "\n",
    "zp = np.array([35, 45, 190, 200, 40, 70, 54, 150, 120, 110])\n",
    "ks = np.array([401, 574, 874, 919, 459, 739, 653, 902, 746, 832])\n"
   ]
  },
  {
   "attachments": {},
   "cell_type": "markdown",
   "metadata": {},
   "source": [
    "3. Произвести вычисления как в пункте 2, но с вычислением intercept. Учесть, что изменение коэффициентов должно производиться на каждом шаге одновременно (то есть изменение одного коэффициента не должно влиять на изменение другого во время одной итерации)."
   ]
  },
  {
   "cell_type": "code",
   "execution_count": 2,
   "metadata": {},
   "outputs": [
    {
     "ename": "NameError",
     "evalue": "name 'zp' is not defined",
     "output_type": "error",
     "traceback": [
      "\u001b[1;31m---------------------------------------------------------------------------\u001b[0m",
      "\u001b[1;31mNameError\u001b[0m                                 Traceback (most recent call last)",
      "Cell \u001b[1;32mIn[2], line 16\u001b[0m\n\u001b[0;32m     14\u001b[0m n \u001b[39m=\u001b[39m \u001b[39m10\u001b[39m\n\u001b[0;32m     15\u001b[0m alpha \u001b[39m=\u001b[39m \u001b[39m2e-05\u001b[39m\n\u001b[1;32m---> 16\u001b[0m mseab_min \u001b[39m=\u001b[39m mse_ab(a,b,zp,ks)\n\u001b[0;32m     18\u001b[0m \u001b[39mfor\u001b[39;00m i \u001b[39min\u001b[39;00m \u001b[39mrange\u001b[39m(\u001b[39m1000000\u001b[39m):\n\u001b[0;32m     19\u001b[0m     a \u001b[39m-\u001b[39m\u001b[39m=\u001b[39malpha\u001b[39m*\u001b[39mmse_pa(a,b,zp,ks)\n",
      "\u001b[1;31mNameError\u001b[0m: name 'zp' is not defined"
     ]
    }
   ],
   "source": [
    "\n",
    "def mse_ab(a,b, x, y):\n",
    "    return np.sum(((a+b*x)-y)**2)/len(x)\n",
    "def mse_pa(a,b,x,y): \n",
    "    return 2*np.sum((a+b*x)-y)/len(x)\n",
    "\n",
    "def mse_pb(a,b,x,y):\n",
    "    return 2*np.sum(((a+b*x)-y)*x)/len(x)\n",
    "\n",
    "a = 0.1\n",
    "b = 0.1\n",
    "i_min=1\n",
    "B1min=a\n",
    "B0min=b\n",
    "n = 10\n",
    "alpha = 2e-05\n",
    "mseab_min = mse_ab(a,b,zp,ks)\n",
    "\n",
    "for i in range(1000000):\n",
    "    a -=alpha*mse_pa(a,b,zp,ks)\n",
    "    b -=alpha*mse_pb(a,b,zp,ks)\n",
    "    if i%50000==0:\n",
    "        print(f'Итерация #{i}, a={a}, b={b}, mse={mse_ab(a, b, zp,ks)}')\n",
    "    if mse_ab(a, b,zp,ks)>mseab_min:\n",
    "        print(f'Итерация #{i_min}, B1={B1min}, B0={B0min}, mse={mseab_min},\\nДостигнут минимум.')\n",
    "        break\n",
    "    else:\n",
    "        mseab_min=mse_ab(a, b,zp,ks)\n",
    "        i_min=1\n",
    "        B1min=a\n",
    "        B0min=b\n",
    "print(f'B1={B1min}\\nB0={B0min}')"
   ]
  }
 ],
 "metadata": {
  "kernelspec": {
   "display_name": ".folder",
   "language": "python",
   "name": "python3"
  },
  "language_info": {
   "codemirror_mode": {
    "name": "ipython",
    "version": 3
   },
   "file_extension": ".py",
   "mimetype": "text/x-python",
   "name": "python",
   "nbconvert_exporter": "python",
   "pygments_lexer": "ipython3",
   "version": "3.11.2"
  },
  "orig_nbformat": 4,
  "vscode": {
   "interpreter": {
    "hash": "473553e28e5b363d575e92da535f1f161aa2132f3ee15a8dbf1484ed06349749"
   }
  }
 },
 "nbformat": 4,
 "nbformat_minor": 2
}
